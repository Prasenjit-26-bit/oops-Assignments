{
  "nbformat": 4,
  "nbformat_minor": 0,
  "metadata": {
    "colab": {
      "provenance": []
    },
    "kernelspec": {
      "name": "python3",
      "display_name": "Python 3"
    },
    "language_info": {
      "name": "python"
    }
  },
  "cells": [
    {
      "cell_type": "markdown",
      "source": [
        "#Python OOPs Questions"
      ],
      "metadata": {
        "id": "77hNPPOZp31z"
      }
    },
    {
      "cell_type": "markdown",
      "source": [
        "1. What is Object-Oriented Programming (OOP)?\n",
        "- Object-oriented programming (OOP) is a programming paradigm that organizes software design around objects, which are data structures containing both data (attributes) and methods (functions) to manipulate that data, promoting code reusability, modularity, and maintainability."
      ],
      "metadata": {
        "id": "S4J8SCyVp3yX"
      }
    },
    {
      "cell_type": "markdown",
      "source": [
        "2. What is a class in OOP?\n",
        "- a class is a blueprint or template for creating objects, defining their structure (attributes) and behavior (methods).\n"
      ],
      "metadata": {
        "id": "PQOD54Qwp3vr"
      }
    },
    {
      "cell_type": "markdown",
      "source": [
        "3. What is an object in OOP?\n",
        "- In Object-Oriented Programming (OOP), an object is a fundamental unit that combines data (attributes or properties) and the code (methods or behaviors) that operates on that data, representing a real-world entity or concept."
      ],
      "metadata": {
        "id": "A7Zxn0Szp3tH"
      }
    },
    {
      "cell_type": "markdown",
      "source": [
        "4. What is the difference between abstraction and encapsulation?\n",
        "- Abstraction focuses on presenting only essential details and hiding complex implementation, while encapsulation bundles data and methods into a unit, restricting."
      ],
      "metadata": {
        "id": "aHjdBSnbp3qp"
      }
    },
    {
      "cell_type": "markdown",
      "source": [
        "5. What are dunder methods in Python?\n",
        "- In Python, \"dunder methods,\" also known as \"magic methods\" or \"special methods,\" are methods with names that start and end with double underscores (e.g., __init__, __str__) that allow you to customize the behavior of your classes and objects."
      ],
      "metadata": {
        "id": "8Ixpkna7p3oE"
      }
    },
    {
      "cell_type": "markdown",
      "source": [
        "6.  Explain the concept of inheritance in OOP.\n",
        "- In Object-Oriented Programming (OOP), inheritance is a mechanism where a new class (subclass or derived class) inherits properties and behaviors from an existing class (superclass or base class), promoting code reuse and hierarchical relationships."
      ],
      "metadata": {
        "id": "DBgEA0Jip3lF"
      }
    },
    {
      "cell_type": "markdown",
      "source": [
        "7. What is polymorphism in OOP?\n",
        "- In Object-Oriented Programming (OOP), inheritance is a mechanism where a new class (subclass or derived class) inherits properties and behaviors from an existing class (superclass or base class), promoting code reuse and hierarchical relationships."
      ],
      "metadata": {
        "id": "zbM8tWdXsaGe"
      }
    },
    {
      "cell_type": "markdown",
      "source": [
        "8. How is encapsulation achieved in Python?\n",
        "- in Python, encapsulation, the bundling of data and methods that operate on that data within a class, is achieved through conventions and practices like using double underscores __ for private attributes and methods, and relying on developer trust rather than strict language enforcement."
      ],
      "metadata": {
        "id": "FjndnGO0srsw"
      }
    },
    {
      "cell_type": "markdown",
      "source": [
        "9. What is a constructor in Python?\n",
        "- In Python, a constructor is a special method, denoted by __init__, that automatically initializes an object's attributes when a new instance of a class is created."
      ],
      "metadata": {
        "id": "TkBZV7oIs5o6"
      }
    },
    {
      "cell_type": "markdown",
      "source": [
        "10. What are class and static methods in Python?\n",
        "- A class method can access or modify the class state while a static method can't access or modify it. In general, static methods know nothing about the class state. They are utility-type methods that take some parameters and work upon those parameters. On the other hand class methods must have class as a parameter."
      ],
      "metadata": {
        "id": "7PSM-31YtLHe"
      }
    },
    {
      "cell_type": "markdown",
      "source": [
        "11. What is method overloading in Python?\n",
        "- In Python, while it's commonly discussed, \"method overloading\" in the traditional sense (defining multiple methods with the same name but different parameters) is not directly supported. Instead, Python achieves similar functionality through techniques like default arguments, variable-length arguments (*args and **kwargs), and conditional logic within a single function"
      ],
      "metadata": {
        "id": "xXi9Foe_taQ4"
      }
    },
    {
      "cell_type": "markdown",
      "source": [
        "12. What is method overriding in OOP?\n",
        "- In Object-Oriented Programming (OOP), method overriding allows a subclass to provide a specific implementation of a method that is already defined in its superclass, enabling polymorphism and customized behavior"
      ],
      "metadata": {
        "id": "5Qz-EwketwF4"
      }
    },
    {
      "cell_type": "markdown",
      "source": [
        "13.  What is a property decorator in Python?\n",
        "- The decorator is a built-in Python decorator that allows you to turn class methods into properties in a way that's both elegant and user-friendly."
      ],
      "metadata": {
        "id": "TrGEMQfyt-Gn"
      }
    },
    {
      "cell_type": "markdown",
      "source": [
        "14. Why is polymorphism important in OOP?\n",
        "- Polymorphism is crucial in Object-Oriented Programming (OOP) because it enables code reusability, flexibility, and extensibility by allowing objects of different types to be treated as objects of a common type, promoting a more adaptable and maintainable software design."
      ],
      "metadata": {
        "id": "N8OS47a7uKoJ"
      }
    },
    {
      "cell_type": "markdown",
      "source": [
        "15. What is an abstract class in Python?\n",
        "- In Python, an abstract class is a blueprint for other classes, designed to be subclassed but not instantiated directly, containing abstract methods (methods without implementation) that subclasses must implement."
      ],
      "metadata": {
        "id": "NUWa666Auias"
      }
    },
    {
      "cell_type": "markdown",
      "source": [
        "16. What are the advantages of OOP?\n",
        "- Object-Oriented Programming (OOP) offers advantages like improved code organization through encapsulation, reusability via inheritance, flexibility with polymorphism, and simplification of complex systems through abstraction, leading to modular, maintainable, and scalable software."
      ],
      "metadata": {
        "id": "GCHUrZ_CuupV"
      }
    },
    {
      "cell_type": "markdown",
      "source": [
        "17. What is the difference between a class variable and an instance variable?\n",
        "- In object-oriented programming, a class variable (also known as a static variable) is shared by all instances (objects) of a class, while an instance variable is unique to each instance"
      ],
      "metadata": {
        "id": "sUEn7zwFu51-"
      }
    },
    {
      "cell_type": "markdown",
      "source": [
        "18. What is multiple inheritance in Python?\n",
        "- In Python, multiple inheritance allows a class to inherit attributes and methods from more than one parent class, combining functionalities from different base classes into a single derived class"
      ],
      "metadata": {
        "id": "kwCZhXoVvF2F"
      }
    },
    {
      "cell_type": "markdown",
      "source": [
        "19. Explain the purpose of ‘’__str__’ and ‘__repr__’ ‘ methods in Python.\n",
        "- In Python, __str__ provides a user-friendly, informal string representation of an object, while __repr__ offers a more formal, unambiguous representation, often for debugging and development purposes."
      ],
      "metadata": {
        "id": "f9dYi76dvOm8"
      }
    },
    {
      "cell_type": "markdown",
      "source": [
        "20. What is the significance of the ‘super()’ function in Python?\n",
        "- In Python, the super() function is a built-in function used to call methods defined in the parent class (superclass) from a subclass, enabling code reuse and extending functionality inherited from the parent."
      ],
      "metadata": {
        "id": "OfgWMVJPvZg8"
      }
    },
    {
      "cell_type": "markdown",
      "source": [
        "21. What is the significance of the __del__ method in Python?\n",
        "- In Python, the __del__ method, also known as the destructor, is called by the garbage collector just before an object is destroyed, allowing for cleanup of resources like file handles or network connections."
      ],
      "metadata": {
        "id": "qkt6Ay5evvT2"
      }
    },
    {
      "cell_type": "markdown",
      "source": [
        "22.  What is the difference between @staticmethod and @classmethod in Python?\n",
        "- In Python, @classmethod binds the method to the class, receiving the class itself (cls) as the first argument, while @staticmethod binds the method to the class without any implicit arguments, making it behave like a regular function within the class's namespace."
      ],
      "metadata": {
        "id": "i-n_0gfqv5xY"
      }
    },
    {
      "cell_type": "markdown",
      "source": [
        "23. How does polymorphism work in Python with inheritance?\n",
        "- In Python, polymorphism with inheritance is achieved through method overriding, where a child class (subclass) can redefine a method inherited from its parent class (superclass) to provide a specific implementation for that method, allowing the same method name to behave differently based on the object's class"
      ],
      "metadata": {
        "id": "Ab-nAkixwMwd"
      }
    },
    {
      "cell_type": "markdown",
      "source": [
        "24.  What is method chaining in Python OOP?\n",
        "- In Python Object-Oriented Programming (OOP), method chaining allows you to call multiple methods sequentially on the same object in a single line of code, making the code more readable and concise, by having each method return the object itself."
      ],
      "metadata": {
        "id": "JuZn_niEwYWn"
      }
    },
    {
      "cell_type": "markdown",
      "source": [
        "25. What is the purpose of the __call__ method in Python?\n",
        "- The __call__ method in Python allows you to make instances of a class callable, meaning you can treat them like functions and call them using parentheses, like instance(argument)"
      ],
      "metadata": {
        "id": "GRRegGB0wwDE"
      }
    },
    {
      "cell_type": "markdown",
      "source": [
        "#Practical Questions"
      ],
      "metadata": {
        "id": "oTTz0VXjxBkc"
      }
    },
    {
      "cell_type": "code",
      "source": [
        "# 1. Create a parent class Animal with a method speak() that prints a generic message. Create a child class Dog that overrides the speak() method to print \"Bark!\".\n",
        "class Animal:\n",
        "  def speak(self):\n",
        "    print(\"Generic message\")\n",
        "\n",
        "class Dog(Animal):\n",
        "  def speak(self):\n",
        "    print(\"Bark!\")\n",
        "\n",
        "dog = Dog()\n",
        "dog.speak()"
      ],
      "metadata": {
        "colab": {
          "base_uri": "https://localhost:8080/"
        },
        "id": "zmH8_LDlxHRU",
        "outputId": "9462170f-877a-4f79-ed4c-cd79671b59aa"
      },
      "execution_count": null,
      "outputs": [
        {
          "output_type": "stream",
          "name": "stdout",
          "text": [
            "Bark!\n"
          ]
        }
      ]
    },
    {
      "cell_type": "code",
      "source": [
        "# 2. Write a program to create an abstract class Shape with a method area(). Derive classes Circle and Rectangle from it and implement the area() method in both.\n",
        "\n",
        "class Shape:\n",
        "  def area(self):\n",
        "    pass\n",
        "class Circle(Shape):\n",
        "  def __init__(self, radius):\n",
        "    self.radius = radius\n",
        "  def area(self):\n",
        "    return 3.14 * self.radius * self.radius\n",
        "class Rectangle(Shape):\n",
        "  def __init__(self, length, width):\n",
        "    self.length = length\n",
        "    self.width = width\n",
        "  def area(self):\n",
        "    return self.length * self.width\n",
        "circle = Circle(5)\n",
        "rectangle = Rectangle(4, 6)\n",
        "print(circle.area())\n",
        "print(rectangle.area())"
      ],
      "metadata": {
        "colab": {
          "base_uri": "https://localhost:8080/"
        },
        "id": "rgFUiNvi2UsA",
        "outputId": "30b6a9df-7e46-42c1-a45f-97fb64fb7562"
      },
      "execution_count": 4,
      "outputs": [
        {
          "output_type": "stream",
          "name": "stdout",
          "text": [
            "78.5\n",
            "24\n"
          ]
        }
      ]
    },
    {
      "cell_type": "code",
      "source": [
        "# 3.  Implement a multi-level inheritance scenario where a class Vehicle has an attribute type. Derive a class Car and further derive a class ElectricCar that adds a battery attribute.\n",
        "\n",
        "class Vehicle:\n",
        "  def __init__(self, type):\n",
        "    self.type = type\n",
        "class Car(Vehicle):\n",
        "  pass\n",
        "class ElectricCar(Car):\n",
        "  def __init__(self, type, battery):\n",
        "    super().__init__(type)\n",
        "    self.battery = battery\n",
        "car = Car(\"Sedan\")\n",
        "electric_car = ElectricCar(\"SUV\", \"Li-ion\")\n",
        "print(car.type)\n",
        "print(electric_car.type)\n",
        "print(electric_car.battery)\n"
      ],
      "metadata": {
        "colab": {
          "base_uri": "https://localhost:8080/"
        },
        "id": "Q-fMnIcs3Tkw",
        "outputId": "b6f52765-a56e-45a8-a8c5-e74f81e8b8b6"
      },
      "execution_count": 5,
      "outputs": [
        {
          "output_type": "stream",
          "name": "stdout",
          "text": [
            "Sedan\n",
            "SUV\n",
            "Li-ion\n"
          ]
        }
      ]
    },
    {
      "cell_type": "code",
      "source": [
        "# 4. Demonstrate polymorphism by creating a base class Bird with a method fly(). Create two derived classes Sparrow and Penguin that override the fly() method.\n",
        "\n",
        "class Bird:\n",
        "  def fly(self):\n",
        "    pass\n",
        "class Sparrow(Bird):\n",
        "  def fly(self):\n",
        "    print(\"Sparrow can fly\")\n",
        "class Penguin(Bird):\n",
        "  def fly(self):\n",
        "    print(\"Penguin can't fly\")\n",
        "\n",
        "sparrow = Sparrow()\n",
        "penguin = Penguin()\n",
        "sparrow.fly()\n",
        "penguin.fly()\n"
      ],
      "metadata": {
        "colab": {
          "base_uri": "https://localhost:8080/"
        },
        "id": "fD0S7Fuy3phb",
        "outputId": "f1bd25da-e66f-4335-f3f8-7424a411d1b8"
      },
      "execution_count": 6,
      "outputs": [
        {
          "output_type": "stream",
          "name": "stdout",
          "text": [
            "Sparrow can fly\n",
            "Penguin can't fly\n"
          ]
        }
      ]
    },
    {
      "cell_type": "code",
      "source": [
        "# 5. Write a program to demonstrate encapsulation by creating a class BankAccount with private attributes balance and methods to deposit, withdraw, and check balance.\n",
        "\n",
        "class BankAccount:\n",
        "    def __init__(self, balance=0):\n",
        "        self.__balance = balance  # Private attribute\n",
        "\n",
        "    def deposit(self, amount):\n",
        "        if amount > 0:\n",
        "            self.__balance += amount\n",
        "            print(f\"Deposited: {amount}\")\n",
        "\n",
        "    def withdraw(self, amount):\n",
        "        if amount > 0 and amount <= self.__balance:\n",
        "            self.__balance -= amount\n",
        "            print(f\"Withdrawn: {amount}\")\n",
        "        else:\n",
        "            print(\"Insufficient balance or invalid amount.\")\n",
        "\n",
        "    def get_balance(self):\n",
        "        return self.__balance\n",
        "\n",
        "account = BankAccount(1000)\n",
        "account.deposit(500)\n",
        "account.withdraw(200)\n",
        "print(\"Current Balance:\", account.get_balance())\n"
      ],
      "metadata": {
        "colab": {
          "base_uri": "https://localhost:8080/"
        },
        "id": "roTw4Rii4CPw",
        "outputId": "821fc8d3-ed83-42eb-b215-3e06cac42b4d"
      },
      "execution_count": 8,
      "outputs": [
        {
          "output_type": "stream",
          "name": "stdout",
          "text": [
            "Deposited: 500\n",
            "Withdrawn: 200\n",
            "Current Balance: 1300\n"
          ]
        }
      ]
    },
    {
      "cell_type": "code",
      "source": [
        "# 6. Demonstrate runtime polymorphism using a method play() in a base class Instrument. Derive classes Guitar and Piano that implement their own version of play().\n",
        "\n",
        "class Instrument:\n",
        "  def play(self):\n",
        "    pass\n",
        "class Guitar(Instrument):\n",
        "  def play(self):\n",
        "    print(\"Guitar is playing\")\n",
        "class Piano(Instrument):\n",
        "  def play(self):\n",
        "    print(\"Piano is playing\")\n",
        "\n",
        "guitar = Guitar()\n",
        "piano = Piano()\n",
        "guitar.play()\n",
        "piano.play()"
      ],
      "metadata": {
        "colab": {
          "base_uri": "https://localhost:8080/"
        },
        "id": "dg5M6dud4zwt",
        "outputId": "29caba72-e353-4c37-f884-7762ed0079f4"
      },
      "execution_count": 9,
      "outputs": [
        {
          "output_type": "stream",
          "name": "stdout",
          "text": [
            "Guitar is playing\n",
            "Piano is playing\n"
          ]
        }
      ]
    },
    {
      "cell_type": "code",
      "source": [
        "# 7. Create a class MathOperations with a class method add_numbers() to add two numbers and a static method subtract_numbers() to subtract two numbers.\n",
        "\n",
        "class MathOperations:\n",
        "  @classmethod\n",
        "  def add_numbers(cls, a, b):\n",
        "    return a + b\n",
        "  @staticmethod\n",
        "  def subtract_numbers(a, b):\n",
        "    return a - b\n",
        "\n",
        "sum = MathOperations.add_numbers(5, 3)\n",
        "difference = MathOperations.subtract_numbers(10, 4)\n",
        "print(sum)\n",
        "print(difference)\n"
      ],
      "metadata": {
        "colab": {
          "base_uri": "https://localhost:8080/"
        },
        "id": "KJX9i70Y5BLT",
        "outputId": "2692b0b3-42a9-461f-e0f3-eb82d7089790"
      },
      "execution_count": 11,
      "outputs": [
        {
          "output_type": "stream",
          "name": "stdout",
          "text": [
            "8\n",
            "6\n"
          ]
        }
      ]
    },
    {
      "cell_type": "code",
      "source": [
        "# 8. Implement a class Person with a class method to count the total number of persons created.\n",
        "\n",
        "class Person:\n",
        "  count = 0\n",
        "  def __init__(self):\n",
        "    Person.count += 1\n",
        "  @classmethod\n",
        "  def get_count(cls):\n",
        "    return cls.count\n",
        "\n",
        "total = Person.get_count()\n",
        "print(total)"
      ],
      "metadata": {
        "colab": {
          "base_uri": "https://localhost:8080/"
        },
        "id": "PnBWUH335fih",
        "outputId": "5da2f66a-9eb0-4dff-c999-4edd487dc104"
      },
      "execution_count": 14,
      "outputs": [
        {
          "output_type": "stream",
          "name": "stdout",
          "text": [
            "0\n"
          ]
        }
      ]
    },
    {
      "cell_type": "code",
      "source": [
        "# 9. Write a class Fraction with attributes numerator and denominator. Override the str method to display the fraction as \"numerator/denominator\".\n",
        "\n",
        "class Fraction:\n",
        "  def __init__(self, numerator, denominator):\n",
        "    self.numerator = numerator\n",
        "    self.denominator = denominator\n",
        "  def __str__(self):\n",
        "    return f\"{self.numerator}/{self.denominator}\"\n",
        "  def __add__(self, other):\n",
        "    new_numerator = self.numerator * other.denominator + self.denominator * other.numerator\n",
        "    new_denominator = self.denominator * other.denominator\n",
        "    return Fraction(new_numerator, new_denominator)\n",
        "\n",
        "oj1 = Fraction(1, 2)\n",
        "oj2 = Fraction(3, 4)\n",
        "result = oj1 + oj2\n",
        "print(result)"
      ],
      "metadata": {
        "colab": {
          "base_uri": "https://localhost:8080/"
        },
        "id": "dJkXoVr36EA7",
        "outputId": "40d3346d-e388-430b-c964-c4b10645b641"
      },
      "execution_count": 15,
      "outputs": [
        {
          "output_type": "stream",
          "name": "stdout",
          "text": [
            "10/8\n"
          ]
        }
      ]
    },
    {
      "cell_type": "code",
      "source": [
        "# 10. Demonstrate operator overloading by creating a class Vector and overriding the add method to add two vectors.\n",
        "\n",
        "class Vector:\n",
        "  def __init__(self, x, y):\n",
        "    self.x = x\n",
        "    self.y = y\n",
        "  def __add__(self, other):\n",
        "    new_x = self.x + other.x\n",
        "    new_y = self.y + other.y\n",
        "    return Vector(new_x, new_y)\n",
        "\n",
        "obj1 = Vector(1, 2)\n",
        "obj2 = Vector(3, 4)\n",
        "result = obj1 + obj2\n",
        "print(result.x, result.y)"
      ],
      "metadata": {
        "colab": {
          "base_uri": "https://localhost:8080/"
        },
        "id": "NgGz7TG66prj",
        "outputId": "e8184d3d-1713-4ee7-d3af-513592ecab61"
      },
      "execution_count": 16,
      "outputs": [
        {
          "output_type": "stream",
          "name": "stdout",
          "text": [
            "4 6\n"
          ]
        }
      ]
    },
    {
      "cell_type": "code",
      "source": [
        "# 11. Create a class Person with attributes name and age. Add a method greet() that prints \"Hello, my name is {name} and I am {age} years old.\"\n",
        "\n",
        "class Person:\n",
        "  def __init__(self, name, age):\n",
        "    self.name = name\n",
        "    self.age = age\n",
        "  def greet(self):\n",
        "    print(f\"Hello, my name is {self.name} and I am {self.age} years old.\")\n",
        "\n",
        "  obj = Person(\"prasenjit\", 22)\n",
        "  obj.greet()"
      ],
      "metadata": {
        "colab": {
          "base_uri": "https://localhost:8080/"
        },
        "id": "KbQV1cEs7Cz9",
        "outputId": "43825f4b-9e64-404b-d300-6803492d4874"
      },
      "execution_count": 23,
      "outputs": [
        {
          "output_type": "stream",
          "name": "stdout",
          "text": [
            "Hello, my name is prasenjit and I am 22 years old.\n"
          ]
        }
      ]
    },
    {
      "cell_type": "code",
      "source": [
        "# 12. Implement a class Student with attributes name and grades. Create a method average_grade() to compute the average of the grades.\n",
        "\n",
        "import builtins\n",
        "\n",
        "class Student:\n",
        "  def __init__(self, name, grades):\n",
        "    self.name = name\n",
        "    self.grades = grades\n",
        "  def average_grade(self):\n",
        "    # Use the built-in sum function by explicitly referencing it from builtins module\n",
        "    total = builtins.sum(self.grades)\n",
        "    average = total / len(self.grades)\n",
        "    return average\n",
        "\n",
        "student = Student(\"prasenjit\", [90, 85, 92, 78])\n",
        "average = student.average_grade()\n",
        "print(average)"
      ],
      "metadata": {
        "colab": {
          "base_uri": "https://localhost:8080/"
        },
        "id": "1UOuDawf7iQU",
        "outputId": "b74b3ab0-e1ff-4149-ea18-d63e910cc771"
      },
      "execution_count": 31,
      "outputs": [
        {
          "output_type": "stream",
          "name": "stdout",
          "text": [
            "86.25\n"
          ]
        }
      ]
    },
    {
      "cell_type": "code",
      "source": [
        "# 13. Create a class Rectangle with methods set_dimensions() to set the dimensions and area() to calculate the area.\n",
        "\n",
        "class Rectangle:\n",
        "  def __init__(self, length, width):\n",
        "    self.length = length\n",
        "    self.width = width\n",
        "  def set_dimensions(self, length, width):\n",
        "    self.length = length\n",
        "    self.width = width\n",
        "  def area(self): # Moved area() outside set_dimensions()\n",
        "    return self.length * self.width\n",
        "\n",
        "rectangle = Rectangle(4, 6)\n",
        "area = rectangle.area()\n",
        "print(area)\n"
      ],
      "metadata": {
        "colab": {
          "base_uri": "https://localhost:8080/"
        },
        "id": "SQv4C0jC8mzS",
        "outputId": "2a442e15-9eec-4fed-9ca9-52d1aacd4598"
      },
      "execution_count": 34,
      "outputs": [
        {
          "output_type": "stream",
          "name": "stdout",
          "text": [
            "24\n"
          ]
        }
      ]
    },
    {
      "cell_type": "code",
      "source": [
        "# 14. Create a class Employee with a method calculate_salary() that computes the salary based on hours worked and hourly rate. Create a derived class Manager that adds a bonus to the salary.\n",
        "\n",
        "class Employee:\n",
        "    def __init__(self, name, hours_worked, hourly_rate):\n",
        "        self.name = name\n",
        "        self.hours_worked = hours_worked\n",
        "        self.hourly_rate = hourly_rate\n",
        "\n",
        "    def calculate_salary(self):\n",
        "        return self.hours_worked * self.hourly_rate\n",
        "\n",
        "class Manager(Employee):\n",
        "    def __init__(self, name, hours_worked, hourly_rate, bonus):\n",
        "        super().__init__(name, hours_worked, hourly_rate)\n",
        "        self.bonus = bonus\n",
        "\n",
        "    def calculate_salary(self):\n",
        "        return super().calculate_salary() + self.bonus\n",
        "\n",
        "employee = Employee(\"John\", 40, 20)\n",
        "print(f\"{employee.name}'s Salary: {employee.calculate_salary()}\")\n",
        "\n",
        "manager = Manager(\"Alice\", 40, 30, 500)\n",
        "print(f\"{manager.name}'s Salary: {manager.calculate_salary()}\")"
      ],
      "metadata": {
        "colab": {
          "base_uri": "https://localhost:8080/"
        },
        "id": "cSAgL_TH-OGF",
        "outputId": "2f9a8586-0dca-419e-e489-1239c8fd22fd"
      },
      "execution_count": 38,
      "outputs": [
        {
          "output_type": "stream",
          "name": "stdout",
          "text": [
            "John's Salary: 800\n",
            "Alice's Salary: 1700\n"
          ]
        }
      ]
    },
    {
      "cell_type": "code",
      "source": [
        "# 15. Create a class Product with attributes name, price, and quantity. Implement a method total_price() that calculates the total price of the product.\n",
        "\n",
        "class Product:\n",
        "    def __init__(self, name, price, quantity):\n",
        "        self.name = name\n",
        "        self.price = price\n",
        "        self.quantity = quantity\n",
        "\n",
        "    def total_price(self):\n",
        "        return self.price * self.quantity\n",
        "\n",
        "product = Product(\"Laptop\", 800, 2)\n",
        "print(f\"Total price for {product.quantity} {product.name}(s): ${product.total_price()}\")"
      ],
      "metadata": {
        "colab": {
          "base_uri": "https://localhost:8080/"
        },
        "id": "VdRySNw7-5F6",
        "outputId": "8da50a5a-7df5-4e70-d457-8ff7818b71dc"
      },
      "execution_count": 39,
      "outputs": [
        {
          "output_type": "stream",
          "name": "stdout",
          "text": [
            "Total price for 2 Laptop(s): $1600\n"
          ]
        }
      ]
    },
    {
      "cell_type": "code",
      "source": [
        "# 16. Create a class Animal with an abstract method sound(). Create two derived classes Cow and Sheep that implement the sound() method.\n",
        "\n",
        "from abc import ABC, abstractmethod\n",
        "\n",
        "class Animal(ABC):\n",
        "    @abstractmethod\n",
        "    def sound(self):\n",
        "        pass\n",
        "\n",
        "class Cow(Animal):\n",
        "    def sound(self):\n",
        "        return \"Moo\"\n",
        "\n",
        "class Sheep(Animal):\n",
        "    def sound(self):\n",
        "        return \"Baa\"\n",
        "\n",
        "animals = [Cow(), Sheep()]\n",
        "for animal in animals:\n",
        "    print(f\"{animal.__class__.__name__} makes sound: {animal.sound()}\")"
      ],
      "metadata": {
        "colab": {
          "base_uri": "https://localhost:8080/"
        },
        "id": "sOOz3FbH_1c5",
        "outputId": "d9039086-f99b-4ae7-8c89-fd27bf3d318a"
      },
      "execution_count": 40,
      "outputs": [
        {
          "output_type": "stream",
          "name": "stdout",
          "text": [
            "Cow makes sound: Moo\n",
            "Sheep makes sound: Baa\n"
          ]
        }
      ]
    },
    {
      "cell_type": "code",
      "source": [
        "# 17. Create a class Book with attributes title, author, and year_published. Add a method get_book_info() that returns a formatted string with the book's details.\n",
        "\n",
        "class Book:\n",
        "    def __init__(self, title, author, year_published):\n",
        "        self.title = title\n",
        "        self.author = author\n",
        "        self.year_published = year_published\n",
        "\n",
        "    def get_book_info(self):\n",
        "        return f\"'{self.title}' by {self.author}, published in {self.year_published}.\"\n",
        "\n",
        "book = Book(\"To Kill a Mockingbird\", \"Harper Lee\", 1960)\n",
        "print(book.get_book_info())"
      ],
      "metadata": {
        "colab": {
          "base_uri": "https://localhost:8080/"
        },
        "id": "jms52kQEAKwp",
        "outputId": "3b6dcd3c-17e5-4e42-bf09-6ccf3bd299ac"
      },
      "execution_count": 41,
      "outputs": [
        {
          "output_type": "stream",
          "name": "stdout",
          "text": [
            "'To Kill a Mockingbird' by Harper Lee, published in 1960.\n"
          ]
        }
      ]
    },
    {
      "cell_type": "code",
      "source": [
        "# 18. Create a class House with attributes address and price. Create a derived class Mansion that adds an attribute number_of_rooms.\n",
        "\n",
        "class House:\n",
        "    def __init__(self, address, price):\n",
        "        self.address = address\n",
        "        self.price = price\n",
        "\n",
        "class Mansion(House):\n",
        "    def __init__(self, address, price, rooms):\n",
        "        super().__init__(address, price)\n",
        "        self.rooms = rooms\n",
        "\n",
        "house = House(\"123 Main St\", 250000)\n",
        "mansion = Mansion(\"456 Luxury Ave\", 5000000, 10)\n",
        "\n",
        "print(f\"House: {house.address}, Price: ${house.price}\")\n",
        "print(f\"Mansion: {mansion.address}, Price: ${mansion.price}, Rooms: {mansion.rooms}\")\n"
      ],
      "metadata": {
        "colab": {
          "base_uri": "https://localhost:8080/"
        },
        "id": "zvNJT4EFAdDv",
        "outputId": "7b368a2c-079d-4930-b0be-4ff28d9f6d09"
      },
      "execution_count": 42,
      "outputs": [
        {
          "output_type": "stream",
          "name": "stdout",
          "text": [
            "House: 123 Main St, Price: $250000\n",
            "Mansion: 456 Luxury Ave, Price: $5000000, Rooms: 10\n"
          ]
        }
      ]
    },
    {
      "cell_type": "code",
      "source": [],
      "metadata": {
        "id": "U9ILSwYCA-31"
      },
      "execution_count": null,
      "outputs": []
    }
  ]
}